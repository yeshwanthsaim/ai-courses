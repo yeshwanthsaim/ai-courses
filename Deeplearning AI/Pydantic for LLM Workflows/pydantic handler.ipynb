{
 "cells": [
  {
   "cell_type": "code",
   "execution_count": null,
   "id": "3c89b9ae-fe10-405b-91dc-e9bd481b86e9",
   "metadata": {},
   "outputs": [],
   "source": [
    "\n",
    "\"\"\"\n",
    "prompt -> LLM\n",
    "\n",
    "\"\"\""
   ]
  },
  {
   "cell_type": "code",
   "execution_count": 7,
   "id": "44809d34-8af2-4c8f-9557-79157ef83c6b",
   "metadata": {},
   "outputs": [
    {
     "name": "stdout",
     "output_type": "stream",
     "text": [
      "Requirement already satisfied: pydantic[email] in c:\\users\\yeshu\\.conda\\envs\\ai\\lib\\site-packages (2.9.2)\n",
      "Requirement already satisfied: annotated-types>=0.6.0 in c:\\users\\yeshu\\.conda\\envs\\ai\\lib\\site-packages (from pydantic[email]) (0.6.0)\n",
      "Requirement already satisfied: pydantic-core==2.23.4 in c:\\users\\yeshu\\.conda\\envs\\ai\\lib\\site-packages (from pydantic[email]) (2.23.4)\n",
      "Requirement already satisfied: typing-extensions>=4.6.1 in c:\\users\\yeshu\\.conda\\envs\\ai\\lib\\site-packages (from pydantic[email]) (4.12.2)\n",
      "Collecting email-validator>=2.0.0 (from pydantic[email])\n",
      "  Downloading email_validator-2.2.0-py3-none-any.whl.metadata (25 kB)\n",
      "Collecting dnspython>=2.0.0 (from email-validator>=2.0.0->pydantic[email])\n",
      "  Downloading dnspython-2.7.0-py3-none-any.whl.metadata (5.8 kB)\n",
      "Requirement already satisfied: idna>=2.0.0 in c:\\users\\yeshu\\.conda\\envs\\ai\\lib\\site-packages (from email-validator>=2.0.0->pydantic[email]) (3.6)\n",
      "Downloading email_validator-2.2.0-py3-none-any.whl (33 kB)\n",
      "Downloading dnspython-2.7.0-py3-none-any.whl (313 kB)\n",
      "Installing collected packages: dnspython, email-validator\n",
      "Successfully installed dnspython-2.7.0 email-validator-2.2.0\n"
     ]
    },
    {
     "name": "stderr",
     "output_type": "stream",
     "text": [
      "\n",
      "[notice] A new release of pip is available: 24.2 -> 25.2\n",
      "[notice] To update, run: python.exe -m pip install --upgrade pip\n"
     ]
    }
   ],
   "source": [
    "!pip install pydantic[email]"
   ]
  },
  {
   "cell_type": "code",
   "execution_count": 2,
   "id": "a0bc01d8-cc27-46c9-a306-fb2aef6fa243",
   "metadata": {},
   "outputs": [],
   "source": [
    "import pydantic"
   ]
  },
  {
   "cell_type": "code",
   "execution_count": 75,
   "id": "6cd90849-66d1-401d-957e-fa0b7681c964",
   "metadata": {},
   "outputs": [],
   "source": [
    "from pydantic import BaseModel, EmailStr, ValidationError\n",
    "from typing import Literal, List"
   ]
  },
  {
   "cell_type": "code",
   "execution_count": 46,
   "id": "c2424eb5-d954-4334-922f-3341d2443e90",
   "metadata": {},
   "outputs": [],
   "source": [
    "class Customer(BaseModel):\n",
    "    name: str\n",
    "    email: EmailStr\n",
    "    gender: Literal['male','femail','other']\n",
    "    is_earning: bool\n",
    "    tags: List[str]\n",
    "\n",
    "class CustomerSmall(BaseModel):\n",
    "    name: str"
   ]
  },
  {
   "cell_type": "code",
   "execution_count": 72,
   "id": "2ff374ff-5d0a-4984-9396-6268747d1cf3",
   "metadata": {},
   "outputs": [],
   "source": [
    "def callLLM(prompt):\n",
    "    response = {\n",
    "        \"name\":\"\",\n",
    "        \"email\":\"\"\n",
    "    }\n",
    "    response = {\n",
    "    \"name\": \"Yesh\",\n",
    "    \"email\": \"Yesh@gmail.com\",\n",
    "    \"gender\": 'male',\n",
    "    \"is_earning\": \"true\",\n",
    "    \"tags\": 'ai_developer'\n",
    "    }\n",
    "    response = \"\"\"{\n",
    "    \"name\": \"Yesh\"\n",
    "    }\"\"\"\n",
    "    # response = {\n",
    "    # \"name\": \"Yesh\"\n",
    "    # }\n",
    "    return response"
   ]
  },
  {
   "cell_type": "code",
   "execution_count": 73,
   "id": "9d6fe6c2-7c2d-449b-a8cf-33cbc3d09b51",
   "metadata": {},
   "outputs": [
    {
     "data": {
      "text/plain": [
       "'{\\n    \"name\": \"Yesh\"\\n    }'"
      ]
     },
     "execution_count": 73,
     "metadata": {},
     "output_type": "execute_result"
    }
   ],
   "source": [
    "prompt = \"\"\"\"\"\"\n",
    "response = callLLM(prompt)\n",
    "response"
   ]
  },
  {
   "cell_type": "code",
   "execution_count": 74,
   "id": "1d689b3d-5320-41b8-b9ad-281eb50c5592",
   "metadata": {},
   "outputs": [
    {
     "data": {
      "text/plain": [
       "CustomerSmall(name='Yesh')"
      ]
     },
     "execution_count": 74,
     "metadata": {},
     "output_type": "execute_result"
    }
   ],
   "source": [
    "CustomerSmall.model_validate_json(response)"
   ]
  },
  {
   "cell_type": "code",
   "execution_count": null,
   "id": "83470462-0936-4565-9596-3409d4f06899",
   "metadata": {},
   "outputs": [],
   "source": []
  },
  {
   "cell_type": "code",
   "execution_count": 79,
   "id": "b8bd5fda-1b5e-44d3-b8c4-30b49db4c205",
   "metadata": {},
   "outputs": [
    {
     "data": {
      "text/plain": [
       "{'name': 'Yesh', 'email': 'Yesh.yesh@gmail.com', 'query': 'Hello how are you?'}"
      ]
     },
     "execution_count": 79,
     "metadata": {},
     "output_type": "execute_result"
    }
   ],
   "source": [
    "## Sample response \n",
    "response = \"\"\"{\n",
    "    \"name\": \"Yesh\",\n",
    "    \"email\": \"Yesh.yesh@gmail.com\",\n",
    "    \"query\":\"Hello how are you?\"\n",
    "    }\"\"\"\n",
    "response = {\n",
    "    \"name\": \"Yesh\",\n",
    "    \"email\": \"Yesh.yesh@gmail.com\",\n",
    "    \"query\":\"Hello how are you?\"\n",
    "    }\n",
    "response"
   ]
  },
  {
   "cell_type": "code",
   "execution_count": 82,
   "id": "d4911b05-a4e3-4561-9102-8440e58af926",
   "metadata": {},
   "outputs": [],
   "source": [
    "class User(BaseModel):\n",
    "    name: str\n",
    "    email: EmailStr\n",
    "    query: str\n",
    "\n",
    "class User(BaseModel):\n",
    "    name: str\n",
    "    email: EmailStr\n",
    "    query: str"
   ]
  },
  {
   "cell_type": "code",
   "execution_count": 57,
   "id": "93ba8691-2c20-48ce-9021-db4ac9f52c0b",
   "metadata": {},
   "outputs": [
    {
     "data": {
      "text/plain": [
       "User(name='Yesh', email='Yesh.yesh@gmail.com', query='Hello how are you?')"
      ]
     },
     "execution_count": 57,
     "metadata": {},
     "output_type": "execute_result"
    }
   ],
   "source": [
    "User.model_validate_json(response)"
   ]
  },
  {
   "cell_type": "code",
   "execution_count": 84,
   "id": "6a0c401e-2473-4f93-9eef-80d6e5dcc913",
   "metadata": {},
   "outputs": [],
   "source": [
    "#### validation function :> \n",
    "def validate_user_input(user_input):\n",
    "    try:\n",
    "        user_input = User.model_validate_json(user_input)\n",
    "        return user_input\n",
    "    except ValidationError as e:\n",
    "        print(\"Validation Error\")\n",
    "        print(e)\n",
    "        "
   ]
  },
  {
   "cell_type": "code",
   "execution_count": 80,
   "id": "4c100fe2-a5ca-4750-bdc0-ec94c0783c09",
   "metadata": {},
   "outputs": [
    {
     "ename": "TypeError",
     "evalue": "BaseModel.model_validate_json() got an unexpected keyword argument 'name'",
     "output_type": "error",
     "traceback": [
      "\u001b[1;31m---------------------------------------------------------------------------\u001b[0m",
      "\u001b[1;31mTypeError\u001b[0m                                 Traceback (most recent call last)",
      "Cell \u001b[1;32mIn[80], line 1\u001b[0m\n\u001b[1;32m----> 1\u001b[0m \u001b[43mvalidate_user_input\u001b[49m\u001b[43m(\u001b[49m\u001b[43mresponse\u001b[49m\u001b[43m)\u001b[49m\n",
      "Cell \u001b[1;32mIn[76], line 4\u001b[0m, in \u001b[0;36mvalidate_user_input\u001b[1;34m(user_input)\u001b[0m\n\u001b[0;32m      2\u001b[0m \u001b[38;5;28;01mdef\u001b[39;00m \u001b[38;5;21mvalidate_user_input\u001b[39m(user_input):\n\u001b[0;32m      3\u001b[0m     \u001b[38;5;28;01mtry\u001b[39;00m:\n\u001b[1;32m----> 4\u001b[0m         user_input \u001b[38;5;241m=\u001b[39m User\u001b[38;5;241m.\u001b[39mmodel_validate_json(\u001b[38;5;241m*\u001b[39m\u001b[38;5;241m*\u001b[39muser_input)\n\u001b[0;32m      5\u001b[0m         \u001b[38;5;28;01mreturn\u001b[39;00m user_input\n\u001b[0;32m      6\u001b[0m     \u001b[38;5;28;01mexcept\u001b[39;00m ValidationError \u001b[38;5;28;01mas\u001b[39;00m e:\n",
      "\u001b[1;31mTypeError\u001b[0m: BaseModel.model_validate_json() got an unexpected keyword argument 'name'"
     ]
    }
   ],
   "source": [
    "validate_user_input(response)"
   ]
  },
  {
   "cell_type": "code",
   "execution_count": 86,
   "id": "5374bbac-0ad6-4255-8bc2-3bb3fbabb6c0",
   "metadata": {},
   "outputs": [
    {
     "data": {
      "text/plain": [
       "'{\\n  \"name\": \"Joe User\",\\n  \"email\": \"joe.user@example.com\",\\n  \"query\": \"I forgot my password.\"\\n}'"
      ]
     },
     "execution_count": 86,
     "metadata": {},
     "output_type": "execute_result"
    }
   ],
   "source": [
    "input_data = \"\"\"{\n",
    "    \"name\": \"Joe User\", \n",
    "    \"email\": \"joe.user@example.com\",\n",
    "    \"query\": \"I forgot my password.\"\n",
    "}\"\"\"\n",
    "validate_user_input(input_data).model_dump_json(indent=2)"
   ]
  },
  {
   "cell_type": "code",
   "execution_count": 87,
   "id": "47c44d1f-7929-45da-9971-d7e39216e327",
   "metadata": {},
   "outputs": [
    {
     "name": "stdout",
     "output_type": "stream",
     "text": [
      "name='Joe User' email='not-an-email@c.c' query='I forgot my password.'\n"
     ]
    }
   ],
   "source": [
    "user_input = User(\n",
    "    name=\"Joe User\", \n",
    "    email=\"not-an-email@c.c\", \n",
    "    query=\"I forgot my password.\"\n",
    ")\n",
    "print(user_input)"
   ]
  },
  {
   "cell_type": "code",
   "execution_count": 88,
   "id": "48db44f1-dea2-40ea-b2b3-ad86b90b2437",
   "metadata": {},
   "outputs": [],
   "source": [
    "# Define a function to handle user input validation safely\n",
    "def validate_user_input(input_data):\n",
    "    try:\n",
    "        # Attempt to create a UserInput model instance from user input data\n",
    "        user_input = User(**input_data)\n",
    "        print(f\"✅ Valid user input created:\")\n",
    "        print(f\"{user_input.model_dump_json(indent=2)}\")\n",
    "        return user_input\n",
    "    except ValidationError as e:\n",
    "        # Capture and display validation errors in a readable format\n",
    "        print(f\"❌ Validation error occurred:\")\n",
    "        for error in e.errors():\n",
    "            print(f\"  - {error['loc'][0]}: {error['msg']}\")\n",
    "        return None"
   ]
  },
  {
   "cell_type": "code",
   "execution_count": 89,
   "id": "4bc2e31d-f894-4c91-a626-058db4b58e24",
   "metadata": {},
   "outputs": [
    {
     "name": "stdout",
     "output_type": "stream",
     "text": [
      "✅ Valid user input created:\n",
      "{\n",
      "  \"name\": \"Joe User\",\n",
      "  \"email\": \"joe.user@example.com\",\n",
      "  \"query\": \"I forgot my password.\"\n",
      "}\n"
     ]
    }
   ],
   "source": [
    "# Create an instance of UserInput using validate_user_input() function\n",
    "input_data = {\n",
    "    \"name\": \"Joe User\", \n",
    "    \"email\": \"joe.user@example.com\",\n",
    "    \"query\": \"I forgot my password.\"\n",
    "}\n",
    "\n",
    "user_input = validate_user_input(input_data)"
   ]
  },
  {
   "cell_type": "code",
   "execution_count": 90,
   "id": "f7d2c92e-13fd-44a5-9f8e-7c1be736e19a",
   "metadata": {},
   "outputs": [
    {
     "name": "stdout",
     "output_type": "stream",
     "text": [
      "❌ Validation error occurred:\n",
      "  - query: Field required\n"
     ]
    }
   ],
   "source": [
    "input_data = {\n",
    "    \"name\": \"Joe User\", \n",
    "    \"email\": \"joe.user@example.com\"\n",
    "}\n",
    "\n",
    "user_input = validate_user_input(input_data)"
   ]
  },
  {
   "cell_type": "code",
   "execution_count": null,
   "id": "e34c5d33-6816-4b5f-ae57-22f2e793d38a",
   "metadata": {},
   "outputs": [],
   "source": []
  },
  {
   "cell_type": "code",
   "execution_count": 91,
   "id": "f39e00bb-1dbe-4fcb-aa0a-a12f55603933",
   "metadata": {},
   "outputs": [],
   "source": [
    "# Import additional libraries for enhanced validation\n",
    "from pydantic import Field\n",
    "from typing import Optional\n",
    "from datetime import date\n",
    "\n",
    "# Define a new UserInput model with optional fields\n",
    "class UserInput(BaseModel):\n",
    "    name: str\n",
    "    email: EmailStr\n",
    "    query: str\n",
    "    order_id: Optional[int] = Field(\n",
    "        None,\n",
    "        description=\"5-digit order number (cannot start with 0)\",\n",
    "        ge=10000,\n",
    "        le=99999\n",
    "    )\n",
    "    purchase_date: Optional[date] = None"
   ]
  },
  {
   "cell_type": "code",
   "execution_count": 94,
   "id": "01179646-8007-4b54-8ec5-4f3a2669dc0d",
   "metadata": {},
   "outputs": [],
   "source": [
    "# Define a function to handle user input validation safely\n",
    "def validate_user_input(input_data):\n",
    "    try:\n",
    "        # Attempt to create a UserInput model instance from user input data\n",
    "        user_input = UserInput(**input_data)\n",
    "        print(f\"✅ Valid user input created:\")\n",
    "        print(f\"{user_input.model_dump_json(indent=2)}\")\n",
    "        return user_input\n",
    "    except ValidationError as e:\n",
    "        # Capture and display validation errors in a readable format\n",
    "        print(f\"❌ Validation error occurred:\")\n",
    "        for error in e.errors():\n",
    "            print(f\"  - {error['loc'][0]}: {error['msg']}\")\n",
    "        return None"
   ]
  },
  {
   "cell_type": "code",
   "execution_count": 95,
   "id": "f4086c6f-239a-422a-b55d-eb6d82be09d0",
   "metadata": {},
   "outputs": [
    {
     "name": "stdout",
     "output_type": "stream",
     "text": [
      "✅ Valid user input created:\n",
      "{\n",
      "  \"name\": \"Joe User\",\n",
      "  \"email\": \"joe.user@example.com\",\n",
      "  \"query\": \"I forgot my password.\",\n",
      "  \"order_id\": null,\n",
      "  \"purchase_date\": null\n",
      "}\n"
     ]
    }
   ],
   "source": [
    "# Define a dictionary with required fields only\n",
    "input_data = {\n",
    "    \"name\": \"Joe User\",\n",
    "    \"email\": \"joe.user@example.com\",\n",
    "    \"query\": \"I forgot my password.\"\n",
    "}\n",
    "\n",
    "# Validate the user input data\n",
    "user_input = validate_user_input(input_data)"
   ]
  },
  {
   "cell_type": "code",
   "execution_count": 96,
   "id": "c75ed408-b4a7-4aca-baa1-b8e808450d85",
   "metadata": {},
   "outputs": [
    {
     "name": "stdout",
     "output_type": "stream",
     "text": [
      "name='Joe User' email='joe.user@example.com' query='I forgot my password.' order_id=None purchase_date=None\n"
     ]
    }
   ],
   "source": [
    "print(user_input)"
   ]
  },
  {
   "cell_type": "code",
   "execution_count": 97,
   "id": "5bc3c87e-0555-4873-ab7d-16c9c7b5753c",
   "metadata": {},
   "outputs": [
    {
     "name": "stdout",
     "output_type": "stream",
     "text": [
      "✅ Valid user input created:\n",
      "{\n",
      "  \"name\": \"Joe User\",\n",
      "  \"email\": \"joe.user@example.com\",\n",
      "  \"query\": \"I bought a laptop carrying case and it turned out to be \\n             the wrong size. I need to return it.\",\n",
      "  \"order_id\": 12345,\n",
      "  \"purchase_date\": \"2025-12-31\"\n",
      "}\n"
     ]
    }
   ],
   "source": [
    "# Define a dictionary with all fields including optional ones\n",
    "input_data = {\n",
    "    \"name\": \"Joe User\",\n",
    "    \"email\": \"joe.user@example.com\",\n",
    "    \"query\": f\"\"\"I bought a laptop carrying case and it turned out to be \n",
    "             the wrong size. I need to return it.\"\"\",\n",
    "    \"order_id\": 12345,\n",
    "    \"purchase_date\": date(2025, 12, 31)\n",
    "}\n",
    "\n",
    "# Validate the user input data\n",
    "user_input = validate_user_input(input_data)"
   ]
  },
  {
   "cell_type": "code",
   "execution_count": 99,
   "id": "b4d78345-0eb5-4559-955a-ddb54e6684e6",
   "metadata": {},
   "outputs": [
    {
     "name": "stdout",
     "output_type": "stream",
     "text": [
      "Parsed JSON: {'name': 'Joe User', 'email': 'joe.user@example.com', 'query': 'I bought a keyboard and mouse and was overcharged.', 'order_id': 12345, 'purchase_date': '2025-12-31'}\n"
     ]
    }
   ],
   "source": [
    "# Define user input as JSON data\n",
    "import json\n",
    "json_data = '''\n",
    "{\n",
    "    \"name\": \"Joe User\",\n",
    "    \"email\": \"joe.user@example.com\",\n",
    "    \"query\": \"I bought a keyboard and mouse and was overcharged.\",\n",
    "    \"order_id\": 12345,\n",
    "    \"purchase_date\": \"2025-12-31\"\n",
    "}\n",
    "'''\n",
    "\n",
    "# Parse the JSON string into a Python dictionary\n",
    "input_data = json.loads(json_data)\n",
    "print(\"Parsed JSON:\", input_data)"
   ]
  },
  {
   "cell_type": "code",
   "execution_count": 107,
   "id": "62f65bbc-9589-448d-9cbd-5544158f57ca",
   "metadata": {},
   "outputs": [
    {
     "name": "stdout",
     "output_type": "stream",
     "text": [
      "Parsed JSON: {'name': 'Joe User', 'email': 'joe.user@example.com', 'query': 'My account has been locked for some reason.', 'order_id': '11234', 'purchase_date': '2025-12-31', 'new_field': 'new_value'}\n"
     ]
    }
   ],
   "source": [
    "# Try different JSON input\n",
    "json_data = '''\n",
    "{\n",
    "    \"name\": \"Joe User\",\n",
    "    \"email\": \"joe.user@example.com\",\n",
    "    \"query\": \"My account has been locked for some reason.\",\n",
    "    \"order_id\": \"11234\",\n",
    "    \"purchase_date\": \"2025-12-31\",\n",
    "    \"new_field\":\"new_value\"\n",
    "}\n",
    "'''\n",
    "\n",
    "# Parse the JSON into a Python dictionary\n",
    "input_data = json.loads(json_data)\n",
    "print(\"Parsed JSON:\", input_data)"
   ]
  },
  {
   "cell_type": "code",
   "execution_count": 108,
   "id": "fa052667-aae7-4ad2-9266-4e273f5a8950",
   "metadata": {},
   "outputs": [
    {
     "name": "stdout",
     "output_type": "stream",
     "text": [
      "✅ Valid user input created:\n",
      "{\n",
      "  \"name\": \"Joe User\",\n",
      "  \"email\": \"joe.user@example.com\",\n",
      "  \"query\": \"My account has been locked for some reason.\",\n",
      "  \"order_id\": 11234,\n",
      "  \"purchase_date\": \"2025-12-31\"\n",
      "}\n"
     ]
    }
   ],
   "source": [
    "# Validate the user iput data\n",
    "user_input = validate_user_input(input_data)"
   ]
  },
  {
   "cell_type": "code",
   "execution_count": null,
   "id": "13756a9b-fac1-4db6-9db1-a6cf8e23f90e",
   "metadata": {},
   "outputs": [],
   "source": []
  },
  {
   "cell_type": "code",
   "execution_count": null,
   "id": "8355d06d-700f-4300-8fa3-157cd64cdb17",
   "metadata": {},
   "outputs": [],
   "source": [
    "# Import necessary packages\n",
    "from pydantic import BaseModel, ValidationError, Field, EmailStr\n",
    "from typing import List, Literal, Optional\n",
    "import json\n",
    "from datetime import date\n",
    "from dotenv import load_dotenv\n",
    "import openai"
   ]
  },
  {
   "cell_type": "code",
   "execution_count": null,
   "id": "04a2232d-ac9f-4752-9fad-8e3c5c87a55b",
   "metadata": {},
   "outputs": [],
   "source": [
    "# Load environment variables for API access\n",
    "load_dotenv()\n",
    "# Initialize OpenAI client for API calls\n",
    "client = openai.OpenAI()"
   ]
  },
  {
   "cell_type": "code",
   "execution_count": null,
   "id": "76cfa5d6-10a9-466c-8888-d9c8dffc83ce",
   "metadata": {},
   "outputs": [],
   "source": [
    "# Define a JSON string representing user input\n",
    "user_input_json = '''\n",
    "{\n",
    "    \"name\": \"Joe User\",\n",
    "    \"email\": \"joe.user@example.com\",\n",
    "    \"query\": \"I forgot my password.\",\n",
    "    \"order_number\": null,\n",
    "    \"purchase_date\": null\n",
    "}\n",
    "'''"
   ]
  },
  {
   "cell_type": "code",
   "execution_count": null,
   "id": "e55746b5-7ff4-40c4-9424-ba48a0fda63d",
   "metadata": {},
   "outputs": [],
   "source": [
    "# Define UserInput model\n",
    "class UserInput(BaseModel):\n",
    "    name: str\n",
    "    email: EmailStr\n",
    "    query: str\n",
    "    order_id: Optional[int] = Field(\n",
    "        None,\n",
    "        description=\"5-digit order number (cannot start with 0)\",\n",
    "        ge=10000,\n",
    "        le=99999\n",
    "    )\n",
    "    purchase_date: Optional[date] = None"
   ]
  },
  {
   "cell_type": "code",
   "execution_count": null,
   "id": "eb943b2f-4e8f-4d31-8042-9e54efddf7b9",
   "metadata": {},
   "outputs": [],
   "source": [
    "# Create UserInput instance from JSON data\n",
    "user_input = UserInput.model_validate_json(user_input_json)"
   ]
  },
  {
   "cell_type": "code",
   "execution_count": null,
   "id": "2b474cbc-8d16-4a13-a9c1-e801676e10b2",
   "metadata": {},
   "outputs": [],
   "source": [
    "# Define the CustomerQuery model that inherits from UserInput\n",
    "class CustomerQuery(UserInput):\n",
    "    priority: str = Field(\n",
    "        ..., description=\"Priority level: low, medium, high\"\n",
    "    )\n",
    "    category: Literal[\n",
    "        'refund_request', 'information_request', 'other'\n",
    "    ] = Field(..., description=\"Query category\")\n",
    "    is_complaint: bool = Field(\n",
    "        ..., description=\"Whether this is a complaint\"\n",
    "    )\n",
    "    tags: List[str] = Field(..., description=\"Relevant keyword tags\")"
   ]
  },
  {
   "cell_type": "code",
   "execution_count": null,
   "id": "4970e973-e1a3-4052-bd80-34c19f8df0bd",
   "metadata": {},
   "outputs": [],
   "source": [
    "# Create a prompt with generic example data to guide LLM.\n",
    "example_response_structure = f\"\"\"{{\n",
    "    name=\"Example User\",\n",
    "    email=\"user@example.com\",\n",
    "    query=\"I ordered a new computer monitor and it arrived with the screen cracked. I need to exchange it for a new one.\",\n",
    "    order_id=12345,\n",
    "    purchase_date=\"2025-12-31\",\n",
    "    priority=\"medium\",\n",
    "    category=\"refund_request\",\n",
    "    is_complaint=True,\n",
    "    tags=[\"monitor\", \"support\", \"exchange\"] \n",
    "}}\"\"\""
   ]
  },
  {
   "cell_type": "code",
   "execution_count": null,
   "id": "63c5a924-c244-49e3-82f1-54ccd4e1b08e",
   "metadata": {},
   "outputs": [],
   "source": [
    "# Create prompt with user data and expected JSON structure\n",
    "prompt = f\"\"\"\n",
    "Please analyze this user query\\n {user_input.model_dump_json(indent=2)}:\n",
    "\n",
    "Return your analysis as a JSON object matching this exact structure \n",
    "and data types:\n",
    "{example_response_structure}\n",
    "\n",
    "Respond ONLY with valid JSON. Do not include any explanations or \n",
    "other text or formatting before or after the JSON object.\n",
    "\"\"\"\n",
    "\n",
    "print(prompt)"
   ]
  },
  {
   "cell_type": "code",
   "execution_count": null,
   "id": "98bca1f9-9192-4e9f-8ec5-05460908ee1b",
   "metadata": {},
   "outputs": [],
   "source": [
    "# Define a function to call the LLM\n",
    "def call_llm(prompt, model=\"gpt-4o\"):\n",
    "    response = client.chat.completions.create(\n",
    "        model=model,\n",
    "        messages=[{\"role\": \"user\", \"content\": prompt}]\n",
    "    )\n",
    "    return response.choices[0].message.content"
   ]
  },
  {
   "cell_type": "code",
   "execution_count": null,
   "id": "0759c255-99d5-4acb-befc-c9e5b1189f9a",
   "metadata": {},
   "outputs": [],
   "source": [
    "# Get response from LLM\n",
    "response_content = call_llm(prompt)\n",
    "print(response_content)"
   ]
  },
  {
   "cell_type": "code",
   "execution_count": null,
   "id": "60e03b02-0fda-4087-9615-460814781334",
   "metadata": {},
   "outputs": [],
   "source": [
    "# Attempt to parse the response into CustomerQuery model\n",
    "valid_data = CustomerQuery.model_validate_json(response_content)"
   ]
  },
  {
   "cell_type": "code",
   "execution_count": null,
   "id": "e900fda7-78fe-4829-8e62-2690a0dec20f",
   "metadata": {},
   "outputs": [],
   "source": [
    "# Define a function to validate an LLM response\n",
    "def validate_with_model(data_model, llm_response):\n",
    "    try:\n",
    "        validated_data = data_model.model_validate_json(llm_response)\n",
    "        print(\"data validation successful!\")\n",
    "        print(validated_data.model_dump_json(indent=2))\n",
    "        return validated_data, None\n",
    "    except ValidationError as e:\n",
    "        print(f\"error validating data: {e}\")\n",
    "        error_message = (\n",
    "            f\"This response generated a validation error: {e}.\"\n",
    "        )\n",
    "        return None, error_message"
   ]
  },
  {
   "cell_type": "code",
   "execution_count": null,
   "id": "0351a8fd-02f9-4e6f-9692-92fb7ce5b016",
   "metadata": {},
   "outputs": [],
   "source": [
    "# Test your validation function with the LLM response\n",
    "validated_data, validation_error = validate_with_model(\n",
    "    CustomerQuery, response_content\n",
    ")"
   ]
  },
  {
   "cell_type": "code",
   "execution_count": null,
   "id": "ab7ee54b-c325-4d0a-8f9c-8485a7245a09",
   "metadata": {},
   "outputs": [],
   "source": [
    "# Define a function to create a retry prompt with error feedback\n",
    "def create_retry_prompt(\n",
    "    original_prompt, original_response, error_message\n",
    "):\n",
    "    retry_prompt = f\"\"\"\n",
    "This is a request to fix an error in the structure of an llm_response.\n",
    "Here is the original request:\n",
    "<original_prompt>\n",
    "{original_prompt}\n",
    "</original_prompt>\n",
    "\n",
    "Here is the original llm_response:\n",
    "<llm_response>\n",
    "{original_response}\n",
    "</llm_response>\n",
    "\n",
    "This response generated an error: \n",
    "<error_message>\n",
    "{error_message}\n",
    "</error_message>\n",
    "\n",
    "Compare the error message and the llm_response and identify what \n",
    "needs to be fixed or removed\n",
    "in the llm_response to resolve this error. \n",
    "\n",
    "Respond ONLY with valid JSON. Do not include any explanations or \n",
    "other text or formatting before or after the JSON string.\n",
    "\"\"\"\n",
    "    return retry_prompt"
   ]
  },
  {
   "cell_type": "code",
   "execution_count": null,
   "id": "344a8d0a-3366-4d1a-93a6-435e261de638",
   "metadata": {},
   "outputs": [],
   "source": []
  },
  {
   "cell_type": "code",
   "execution_count": null,
   "id": "c0953eca-daa3-48fd-ba09-2e6e635308bf",
   "metadata": {},
   "outputs": [],
   "source": [
    "# Create a retry prompt for validation errors\n",
    "validation_retry_prompt = create_retry_prompt(\n",
    "    original_prompt=prompt,\n",
    "    original_response=response_content,\n",
    "    error_message=validation_error\n",
    ")\n",
    "\n",
    "print(validation_retry_prompt)"
   ]
  },
  {
   "cell_type": "code",
   "execution_count": null,
   "id": "e4ebc905-d277-4c48-8493-8b44d70df29a",
   "metadata": {},
   "outputs": [],
   "source": [
    "# Call the LLM with the validation retry prompt\n",
    "validation_retry_response = call_llm(validation_retry_prompt)\n",
    "print(validation_retry_response)"
   ]
  },
  {
   "cell_type": "code",
   "execution_count": null,
   "id": "c99ef131-d6a9-4798-ae8a-4769a7180c81",
   "metadata": {},
   "outputs": [],
   "source": [
    "# Attempt to validate retry response from LLM\n",
    "validated_data, validation_error = validate_with_model(\n",
    "    CustomerQuery, validation_retry_response\n",
    ")"
   ]
  },
  {
   "cell_type": "code",
   "execution_count": null,
   "id": "2b872bc7-5841-48b4-bb34-6741ff8371ef",
   "metadata": {},
   "outputs": [],
   "source": [
    "# Create a second retry prompt for validation errors\n",
    "second_validation_retry_prompt = create_retry_prompt(\n",
    "    original_prompt=validation_retry_prompt,\n",
    "    original_response=validation_retry_response,\n",
    "    error_message=validation_error\n",
    ")\n",
    "\n",
    "print(second_validation_retry_prompt)"
   ]
  },
  {
   "cell_type": "code",
   "execution_count": null,
   "id": "cc06195b-e0bc-4c44-9e9d-8f7343d5f6b5",
   "metadata": {},
   "outputs": [],
   "source": [
    "# Call the LLM with the second validation retry prompt\n",
    "second_validation_retry_response = call_llm(\n",
    "    second_validation_retry_prompt\n",
    ")\n",
    "print(second_validation_retry_response)"
   ]
  },
  {
   "cell_type": "code",
   "execution_count": null,
   "id": "d2335abf-5d45-4ef8-8795-6744e77d230b",
   "metadata": {},
   "outputs": [],
   "source": [
    "#### Second loop"
   ]
  },
  {
   "cell_type": "code",
   "execution_count": null,
   "id": "cb6a2234-c4ae-40a6-971e-ab32190a1311",
   "metadata": {},
   "outputs": [],
   "source": [
    "# Define a function to automatically retry an LLM call multiple times\n",
    "def validate_llm_response(\n",
    "    prompt, data_model, n_retry=5, model=\"gpt-4o\"\n",
    "):\n",
    "    # Initial LLM call\n",
    "    response_content = call_llm(prompt, model=model)\n",
    "    current_prompt = prompt\n",
    "\n",
    "    # Try to validate with the model\n",
    "    # attempt: 0=initial, 1=first retry, ...\n",
    "    for attempt in range(n_retry + 1):\n",
    "\n",
    "        validated_data, validation_error = validate_with_model(\n",
    "            data_model, response_content\n",
    "        )\n",
    "\n",
    "        if validation_error:\n",
    "            if attempt < n_retry:\n",
    "                print(f\"retry {attempt} of {n_retry} failed, trying again...\")\n",
    "            else:\n",
    "                print(f\"Max retries reached. Last error: {validation_error}\")\n",
    "                return None, (\n",
    "                    f\"Max retries reached. Last error: {validation_error}\"\n",
    "                )\n",
    "\n",
    "            validation_retry_prompt = create_retry_prompt(\n",
    "                original_prompt=current_prompt,\n",
    "                original_response=response_content,\n",
    "                error_message=validation_error\n",
    "            )\n",
    "            response_content = call_llm(\n",
    "                validation_retry_prompt, model=model\n",
    "            )\n",
    "            current_prompt = validation_retry_prompt\n",
    "            continue\n",
    "\n",
    "        # If you get here, both parsing and validation succeeded\n",
    "        return validated_data, None"
   ]
  },
  {
   "cell_type": "code",
   "execution_count": null,
   "id": "d8b6cbe7-541f-4911-9f69-9282ef5c3a99",
   "metadata": {},
   "outputs": [],
   "source": [
    "# Test your complete solution with the original prompt\n",
    "validated_data, error = validate_llm_response(\n",
    "    prompt, CustomerQuery\n",
    ")"
   ]
  },
  {
   "cell_type": "code",
   "execution_count": null,
   "id": "66d72f12-40f9-46cd-ac64-256880cd728f",
   "metadata": {},
   "outputs": [],
   "source": [
    "# Investigate the model_json_schema for CustomerQuery\n",
    "data_model_schema = json.dumps(\n",
    "    CustomerQuery.model_json_schema(), indent=2\n",
    ")\n",
    "print(data_model_schema)"
   ]
  },
  {
   "cell_type": "code",
   "execution_count": null,
   "id": "e196f12a-7091-4f86-bebd-147f776b90b9",
   "metadata": {},
   "outputs": [],
   "source": [
    "# Print the original prompt from above\n",
    "print(prompt)"
   ]
  },
  {
   "cell_type": "code",
   "execution_count": null,
   "id": "8eaa1b8d-8e2f-47c1-b2a8-5d4039e4c696",
   "metadata": {},
   "outputs": [],
   "source": [
    "# Create new prompt with user input and model_json_schema\n",
    "prompt = f\"\"\"\n",
    "Please analyze this user query\\n {user_input.model_dump_json(indent=2)}:\n",
    "\n",
    "Return your analysis as a JSON object matching the following schema:\n",
    "{data_model_schema}\n",
    "\n",
    "Respond ONLY with valid JSON. Do not include any explanations or \n",
    "other text or formatting before or after the JSON object.\n",
    "\"\"\""
   ]
  },
  {
   "cell_type": "code",
   "execution_count": null,
   "id": "5d207afc-065d-4deb-a8d8-45f6b0450104",
   "metadata": {},
   "outputs": [],
   "source": [
    "# Run your validate_llm_response function with the new prompt\n",
    "final_analysis, error = validate_llm_response(\n",
    "    prompt, CustomerQuery\n",
    ")"
   ]
  },
  {
   "cell_type": "code",
   "execution_count": null,
   "id": "d948da48-166e-4928-8a68-1856b79ae8b0",
   "metadata": {},
   "outputs": [],
   "source": []
  },
  {
   "cell_type": "code",
   "execution_count": null,
   "id": "6a7e67ec-f226-4744-90f4-101bd281c866",
   "metadata": {},
   "outputs": [],
   "source": [
    "# Import packages\n",
    "from pydantic import BaseModel, Field, EmailStr\n",
    "from typing import List, Literal, Optional\n",
    "from openai import OpenAI\n",
    "import instructor\n",
    "import anthropic\n",
    "from dotenv import load_dotenv\n",
    "from datetime import date"
   ]
  },
  {
   "cell_type": "code",
   "execution_count": null,
   "id": "bd4d48c0-d154-424b-a14e-1843ea0fe036",
   "metadata": {},
   "outputs": [],
   "source": [
    "# Define the UserInput model for customer support queries\n",
    "class UserInput(BaseModel):\n",
    "    name: str\n",
    "    email: EmailStr\n",
    "    query: str\n",
    "    order_id: Optional[int] = Field(\n",
    "        None,\n",
    "        description=\"5-digit order number (cannot start with 0)\",\n",
    "        ge=10000,\n",
    "        le=99999\n",
    "    )\n",
    "    purchase_date: Optional[date] = None\n",
    "\n",
    "# Define the CustomerQuery model that inherits from UserInput\n",
    "class CustomerQuery(UserInput):\n",
    "    priority: str = Field(\n",
    "        ..., description=\"Priority level: low, medium, high\"\n",
    "    )\n",
    "    category: Literal[\n",
    "        'refund_request', 'information_request', 'other'\n",
    "    ] = Field(..., description=\"Query category\")\n",
    "    is_complaint: bool = Field(\n",
    "        ..., description=\"Whether this is a complaint\"\n",
    "    )\n",
    "    tags: List[str] = Field(..., description=\"Relevant keyword tags\")"
   ]
  },
  {
   "cell_type": "code",
   "execution_count": null,
   "id": "fe3b6ada-93b4-4795-8072-278cd011fcb9",
   "metadata": {},
   "outputs": [],
   "source": [
    "# Define your input data as a JSON string\n",
    "user_input_json = '''{\n",
    "    \"name\": \"Joe User\",\n",
    "    \"email\": \"joe.user@example.com\",\n",
    "    \"query\": \"I ordered a new computer monitor and it arrived with the screen cracked. This is the second time this has happened. I need a replacement ASAP.\",\n",
    "    \"order_number\": 12345,\n",
    "    \"purchase_date\": \"2025-12-31\"\n",
    "}'''"
   ]
  },
  {
   "cell_type": "code",
   "execution_count": null,
   "id": "1e73b6cf-62ac-4638-99cb-644d6e3ca62c",
   "metadata": {},
   "outputs": [],
   "source": [
    "prompt = (\n",
    "    f\"Analyze the following customer query {user_input} \"\n",
    "    f\"and provide a structured response.\"\n",
    ")"
   ]
  },
  {
   "cell_type": "code",
   "execution_count": null,
   "id": "d095a1e9-fb58-4084-9316-57418866a6a3",
   "metadata": {},
   "outputs": [],
   "source": [
    "# Load environment variables\n",
    "load_dotenv()\n",
    "# Use Anthropic with Instructor to get structured output\n",
    "anthropic_client = instructor.from_anthropic(\n",
    "    anthropic.Anthropic()\n",
    ")\n",
    "\n",
    "response = anthropic_client.messages.create(\n",
    "    model=\"claude-3-7-sonnet-latest\",  \n",
    "    max_tokens=1024,\n",
    "    messages=[\n",
    "        {\n",
    "            \"role\": \"user\", \n",
    "            \"content\": prompt\n",
    "        }\n",
    "    ],\n",
    "    response_model=CustomerQuery  \n",
    ")"
   ]
  },
  {
   "cell_type": "code",
   "execution_count": null,
   "id": "30313288-6686-4ab1-899d-54255935f572",
   "metadata": {},
   "outputs": [],
   "source": [
    "# Inspect the returned structured data\n",
    "print(type(response))\n",
    "print(response.model_dump_json(indent=2))"
   ]
  },
  {
   "cell_type": "code",
   "execution_count": null,
   "id": "e00d0fbc-247d-4b21-9a51-167ba426d40c",
   "metadata": {},
   "outputs": [],
   "source": [
    "# Initialize OpenAI client and call passing CustomerQuery in your API call\n",
    "openai_client = OpenAI()\n",
    "response = openai_client.beta.chat.completions.parse(\n",
    "    model=\"gpt-4o\",\n",
    "    messages=[{\"role\": \"user\", \"content\": prompt}],\n",
    "    response_format=CustomerQuery\n",
    ")\n",
    "response_content = response.choices[0].message.content\n",
    "print(type(response_content))\n",
    "print(response_content)"
   ]
  },
  {
   "cell_type": "code",
   "execution_count": null,
   "id": "1c982b90-3f68-4b5e-97c5-b482e15a8e44",
   "metadata": {},
   "outputs": [],
   "source": [
    "# Validate the repsonse you got from the LLM\n",
    "valid_data = CustomerQuery.model_validate_json(\n",
    "    response_content\n",
    ")\n",
    "print(type(valid_data))\n",
    "print(valid_data.model_dump_json(indent=2))"
   ]
  },
  {
   "cell_type": "code",
   "execution_count": null,
   "id": "6947493a-5d6c-4b94-b8e4-670b6e4f9a0b",
   "metadata": {},
   "outputs": [],
   "source": [
    "# Try the responses API from OpenAI\n",
    "response = openai_client.responses.parse(\n",
    "    model=\"gpt-4o\",\n",
    "    input=[{\"role\": \"user\", \"content\": prompt}],\n",
    "    text_format=CustomerQuery\n",
    ")\n",
    "\n",
    "print(type(response))"
   ]
  },
  {
   "cell_type": "code",
   "execution_count": null,
   "id": "9346fe4a-58a6-4823-901c-df1f84218971",
   "metadata": {},
   "outputs": [],
   "source": [
    "# Investigate class inheritance structure of the OpenAI response\n",
    "def print_class_inheritence(llm_response):\n",
    "    for cls in type(llm_response).mro():\n",
    "        print(f\"{cls.__module__}.{cls.__name__}\")\n",
    "\n",
    "print_class_inheritence(response)"
   ]
  },
  {
   "cell_type": "code",
   "execution_count": null,
   "id": "ae0986b8-7297-434a-93e6-54f8f8260c31",
   "metadata": {},
   "outputs": [],
   "source": [
    "# Print the response type and content \n",
    "print(type(response.output_parsed))\n",
    "print(response.output_parsed.model_dump_json(indent=2))"
   ]
  },
  {
   "cell_type": "code",
   "execution_count": null,
   "id": "ed27003e-8e91-4ac0-866c-f6b959023757",
   "metadata": {},
   "outputs": [],
   "source": [
    "# Try out the Pydantic AI package for defining an agent and getting a structured response\n",
    "from pydantic_ai import Agent\n",
    "import nest_asyncio\n",
    "nest_asyncio.apply()\n",
    "\n",
    "agent = Agent(\n",
    "    model=\"google-gla:gemini-2.0-flash\",\n",
    "    output_type=CustomerQuery,\n",
    ")\n",
    "\n",
    "response = agent.run_sync(prompt)"
   ]
  },
  {
   "cell_type": "code",
   "execution_count": null,
   "id": "ec48ec5e-6899-43f4-a2fd-87da907098ef",
   "metadata": {},
   "outputs": [],
   "source": [
    "# Print out the repsonse type and content\n",
    "print(type(response.output))\n",
    "print(response.output.model_dump_json(indent=2))"
   ]
  },
  {
   "cell_type": "code",
   "execution_count": null,
   "id": "4bb377ea-2620-42e7-9e3f-e406e78ee7de",
   "metadata": {},
   "outputs": [],
   "source": [
    "# Import packages\n",
    "from pydantic import BaseModel, Field, EmailStr, field_validator\n",
    "from pydantic_ai import Agent\n",
    "from typing import Literal, List, Optional\n",
    "from datetime import datetime, date\n",
    "import json\n",
    "from openai import OpenAI\n",
    "import anthropic\n",
    "import instructor\n",
    "from dotenv import load_dotenv\n",
    "load_dotenv()\n",
    "import nest_asyncio\n",
    "nest_asyncio.apply()"
   ]
  },
  {
   "cell_type": "code",
   "execution_count": null,
   "id": "696a7cc2-c8b5-4722-83f2-b917a561ed60",
   "metadata": {},
   "outputs": [],
   "source": [
    "# Define your UserInput model\n",
    "class UserInput(BaseModel):\n",
    "    name: str = Field(..., description=\"User's name\")\n",
    "    email: EmailStr = Field(..., description=\"User's email address\")\n",
    "    query: str = Field(..., description=\"User's query\")\n",
    "    order_id: Optional[str] = Field(\n",
    "        None,\n",
    "        description=\"Order ID if available (format: ABC-12345)\"\n",
    "    )\n",
    "    # Validate order_id format (e.g., ABC-12345)\n",
    "    @field_validator(\"order_id\")\n",
    "    def validate_order_id(cls, order_id):\n",
    "        import re\n",
    "        if order_id is None:\n",
    "            return order_id\n",
    "        pattern = r\"^[A-Z]{3}-\\d{5}$\"\n",
    "        if not re.match(pattern, order_id):\n",
    "            raise ValueError(\n",
    "                \"order_id must be in format ABC-12345 \"\n",
    "                \"(3 uppercase letters, dash, 5 digits)\"\n",
    "            )\n",
    "        return order_id\n",
    "    purchase_date: Optional[date] = None\n",
    "\n"
   ]
  },
  {
   "cell_type": "code",
   "execution_count": null,
   "id": "dc3b7dcc-6dd6-45ef-9e9b-de983114d2a3",
   "metadata": {},
   "outputs": [],
   "source": [
    "# Define your CustomerQuery model\n",
    "class CustomerQuery(UserInput):\n",
    "    priority: str = Field(\n",
    "        ..., description=\"Priority level: low, medium, high\"\n",
    "    )\n",
    "    category: Literal[\n",
    "        'refund_request', 'information_request', 'other'\n",
    "    ] = Field(..., description=\"Query category\")\n",
    "    is_complaint: bool = Field(\n",
    "        ..., description=\"Whether this is a complaint\"\n",
    "    )\n",
    "    tags: List[str] = Field(..., description=\"Relevant keyword tags\")"
   ]
  },
  {
   "cell_type": "code",
   "execution_count": null,
   "id": "8d2cd1ab-d760-4873-92bf-670854f2e46b",
   "metadata": {},
   "outputs": [],
   "source": [
    "# Define a function to validate user input\n",
    "def validate_user_input(user_json: str):\n",
    "    \"\"\"Validate user input from a JSON string and return a UserInput \n",
    "    instance if valid.\"\"\"\n",
    "    try:\n",
    "        user_input = (\n",
    "            UserInput.model_validate_json(user_json)\n",
    "        )\n",
    "        print(\"user input validated...\")\n",
    "        return user_input\n",
    "    except Exception as e:\n",
    "        print(f\" Unexpected error: {e}\")\n",
    "        return None"
   ]
  },
  {
   "cell_type": "code",
   "execution_count": null,
   "id": "504ff205-24dd-4bc9-923a-59b03763023a",
   "metadata": {},
   "outputs": [],
   "source": [
    "# Define a function to call an LLM using Pydantic AI to create an instance of CustomerQuery\n",
    "def create_customer_query(valid_user_json: str) -> CustomerQuery:\n",
    "    customer_query_agent = Agent(\n",
    "        model=\"google-gla:gemini-2.0-flash\",\n",
    "        output_type=CustomerQuery,\n",
    "    )\n",
    "    response = customer_query_agent.run_sync(valid_user_json)\n",
    "    print(\"CustomerQuery generated...\")\n",
    "    return response.output"
   ]
  },
  {
   "cell_type": "code",
   "execution_count": null,
   "id": "4b5f29dd-dc72-402f-a5ae-a5d698cc965f",
   "metadata": {},
   "outputs": [],
   "source": [
    "# Define user input JSON data\n",
    "user_input_json = '''\n",
    "{\n",
    "    \"name\": \"Joe User\",\n",
    "    \"email\": \"joe@example.com\",\n",
    "    \"query\": \"When can I expect delivery of the headphones I ordered?\",\n",
    "    \"order_id\": \"ABC-12345\",\n",
    "    \"purchase_date\": \"2025-12-01\"\n",
    "}\n",
    "'''\n",
    "# Validate user input and create a CustomerQuery\n",
    "valid_data = validate_user_input(user_input_json).model_dump_json()\n",
    "customer_query = create_customer_query(valid_data)\n",
    "print(type(customer_query))\n",
    "print(customer_query.model_dump_json(indent=2))"
   ]
  },
  {
   "cell_type": "code",
   "execution_count": null,
   "id": "0046db1b-80c2-4400-a65e-4d78f918e88b",
   "metadata": {},
   "outputs": [],
   "source": [
    "# Define FAQ Lookup tool input as a Pydantic model\n",
    "class FAQLookupArgs(BaseModel):\n",
    "    query: str = Field(..., description=\"User's query\") \n",
    "    tags: List[str] = Field(\n",
    "        ..., description=\"Relevant keyword tags from the customer query\"\n",
    "    )"
   ]
  },
  {
   "cell_type": "code",
   "execution_count": null,
   "id": "baadc534-892c-42ed-b73e-f02204c3def5",
   "metadata": {},
   "outputs": [],
   "source": [
    "# Define Check Order Status tool input as a Pydantic model\n",
    "class CheckOrderStatusArgs(BaseModel):\n",
    "    order_id: str = Field(\n",
    "        ..., description=\"Customer's order ID (format: ABC-12345)\"\n",
    "    )\n",
    "    email: EmailStr = Field(..., description=\"Customer's email address\")\n",
    "\n",
    "    @field_validator(\"order_id\")\n",
    "    def validate_order_id(cls, order_id):\n",
    "        import re\n",
    "        pattern = r\"^[A-Z]{3}-\\d{5}$\"\n",
    "        if not re.match(pattern, order_id):\n",
    "            raise ValueError(\n",
    "                \"order_id must be in format ABC-12345 \"\n",
    "                \"(3 uppercase letters, dash, 5 digits)\"\n",
    "            )\n",
    "        return order_id"
   ]
  },
  {
   "cell_type": "code",
   "execution_count": null,
   "id": "5f9e7adc-0f6e-4879-bab6-627fc2039c00",
   "metadata": {},
   "outputs": [],
   "source": [
    "# Create a fake FAQ database as a list of entries with keywords\n",
    "faq_db = [\n",
    "    {\n",
    "        \"question\": \"How can I reset my password?\",\n",
    "        \"answer\": \"To reset your password, click 'Forgot Password' on the sign-in page and follow the instructions sent to your email.\",\n",
    "        \"keywords\": [\"password\", \"reset\", \"account\"]\n",
    "    },\n",
    "    {\n",
    "        \"question\": \"How long does shipping take?\",\n",
    "        \"answer\": \"Standard shipping takes 3-5 business days. You can track your order in your account dashboard.\",\n",
    "        \"keywords\": [\"shipping\", \"delivery\", \"order\", \"tracking\"]\n",
    "    },\n",
    "    {\n",
    "        \"question\": \"How can I return an item?\",\n",
    "        \"answer\": \"You can return any item within 30 days of purchase. Visit our returns page to start the process.\",\n",
    "        \"keywords\": [\"return\", \"refund\", \"exchange\"]\n",
    "    },\n",
    "    {\n",
    "        \"question\": \"How can I delete my account?\",\n",
    "        \"answer\": \"To delete your account, go to your account settings tab and select 'delete account'.\",\n",
    "        \"keywords\": [\"delete\", \"account\", \"remove\"]\n",
    "    }\n",
    "]\n",
    "\n",
    "# Create a fake order database\n",
    "order_db = {\n",
    "    \"ABC-12345\": {\n",
    "        \"status\": \"shipped\", \"estimated_delivery\": \"2025-12-05\",\n",
    "        \"purchase_date\": \"2025-12-01\", \"email\": \"joe@example.com\"\n",
    "    },\n",
    "    \"XYZ-23456\": {\n",
    "        \"status\": \"processing\", \"estimated_delivery\": \"2025-12-15\",\n",
    "        \"purchase_date\": \"2025-12-10\", \"email\": \"sue@example.com\"\n",
    "    },\n",
    "    \"QWE-34567\": {\n",
    "        \"status\": \"delivered\", \"estimated_delivery\": \"2025-12-20\",\n",
    "        \"purchase_date\": \"2025-12-18\", \"email\": \"bob@example.com\"\n",
    "    }\n",
    "}"
   ]
  },
  {
   "cell_type": "code",
   "execution_count": null,
   "id": "5c8bac9f-725e-4f94-88e4-9b2602f02982",
   "metadata": {},
   "outputs": [],
   "source": [
    "# Define your FAQ lookup tool\n",
    "def lookup_faq_answer(args: FAQLookupArgs) -> str:\n",
    "    \"\"\"Look up an FAQ answer by matching tags and words in query \n",
    "    to FAQ entry keywords.\"\"\"\n",
    "    query_words = set(word.lower() for word in args.query.split())\n",
    "    tag_set = set(tag.lower() for tag in args.tags)\n",
    "    best_match = None\n",
    "    best_score = 0\n",
    "    for faq in faq_db:\n",
    "        keywords = set(k.lower() for k in faq[\"keywords\"])\n",
    "        score = len(keywords & tag_set) + len(keywords & query_words)\n",
    "        if score > best_score:\n",
    "            best_score = score\n",
    "            best_match = faq\n",
    "    if best_match and best_score > 0:\n",
    "        return best_match[\"answer\"]\n",
    "    return \"Sorry, I couldn't find an FAQ answer for your question.\""
   ]
  },
  {
   "cell_type": "code",
   "execution_count": null,
   "id": "69bf5cfa-e050-4b3a-ab2b-9869ecc71cd5",
   "metadata": {},
   "outputs": [],
   "source": [
    "# Define your check order status tool\n",
    "def check_order_status(args: CheckOrderStatusArgs):\n",
    "    \"\"\"Simulate checking the status of a customer's order by \n",
    "    order_id and email.\"\"\"\n",
    "    order = order_db.get(args.order_id)\n",
    "    if not order:\n",
    "        return {\n",
    "            \"order_id\": args.order_id,\n",
    "            \"status\": \"not found\",\n",
    "            \"estimated_delivery\": None,\n",
    "            \"note\": \"order_id not found\"\n",
    "        }\n",
    "    if args.email.lower() != order.get(\"email\", \"\").lower():\n",
    "        return {\n",
    "            \"order_id\": args.order_id,\n",
    "            \"status\": order[\"status\"],\n",
    "            \"estimated_delivery\": order[\"estimated_delivery\"],\n",
    "            \"note\": \"order_id found but email mismatch\"\n",
    "        }\n",
    "    return {\n",
    "        \"order_id\": args.order_id,\n",
    "        \"status\": order[\"status\"],\n",
    "        \"estimated_delivery\": order[\"estimated_delivery\"],\n",
    "        \"note\": \"order_id and email match\"\n",
    "    }"
   ]
  },
  {
   "cell_type": "code",
   "execution_count": null,
   "id": "664708e8-f0bb-47c4-83d4-56400c4d713e",
   "metadata": {},
   "outputs": [],
   "source": [
    "# Define tools for your API call\n",
    "tool_definitions = [\n",
    "    {\n",
    "        \"type\": \"function\",\n",
    "        \"function\": {\n",
    "            \"name\": \"lookup_faq_answer\",\n",
    "            \"description\": \"Look up an FAQ answer by matching tags to FAQ entry keywords.\",\n",
    "            \"parameters\": FAQLookupArgs.model_json_schema()\n",
    "        }\n",
    "    },\n",
    "    {\n",
    "        \"type\": \"function\",\n",
    "        \"function\": {\n",
    "            \"name\": \"check_order_status\",\n",
    "            \"description\": \"Check the status of a customer's order.\",\n",
    "            \"parameters\": CheckOrderStatusArgs.model_json_schema()\n",
    "        }\n",
    "    }\n",
    "]"
   ]
  },
  {
   "cell_type": "code",
   "execution_count": null,
   "id": "77f40941-0f51-43a6-ba58-e19e3cc09211",
   "metadata": {},
   "outputs": [],
   "source": [
    "#Define your final output Pydantic models\n",
    "class OrderDetails(BaseModel):\n",
    "    status: str\n",
    "    estimated_delivery: str\n",
    "    note: str\n",
    "\n",
    "class SupportTicket(CustomerQuery):\n",
    "    recommended_next_action: Literal[\n",
    "        'escalate_to_agent', 'send_faq_response', \n",
    "        'send_order_status', 'no_action_needed'\n",
    "    ] = Field(\n",
    "        ..., description=\"LLM's recommended next action for support\"\n",
    "    )\n",
    "    order_details: Optional[OrderDetails] = Field(\n",
    "        None, description=\"Order details if action is send_order_status\"\n",
    "    )\n",
    "    faq_response: Optional[str] = Field(\n",
    "        None, description=\"FAQ response if action is send_faq_response\"\n",
    "    )\n",
    "    creation_date: datetime = Field(\n",
    "        ..., description=\"Date and time the ticket was created\"\n",
    "    )"
   ]
  },
  {
   "cell_type": "code",
   "execution_count": null,
   "id": "85793fb1-0213-4fd0-a09c-4d380e3023d0",
   "metadata": {},
   "outputs": [],
   "source": [
    "# Initialize OpenAI client\n",
    "client = OpenAI()\n",
    "\n",
    "# Define a function to call OpenAI with tools\n",
    "def decide_next_action_with_tools(customer_query: CustomerQuery):\n",
    "    \n",
    "    support_ticket_schema = json.dumps(\n",
    "        SupportTicket.model_json_schema(), indent=2\n",
    "    )\n",
    "    system_prompt = f\"\"\"\n",
    "        You are a helpful customer support agent. Your job is to \n",
    "        determine what support action should be taken for the customer, \n",
    "        based on the customer query and the expected fields in the \n",
    "        SupportTicket schema below. If more information on a particular \n",
    "        order_id or FAQ response would be helpful in responding to the \n",
    "        user query and can be obtained by calling a tool, call the \n",
    "        appropriate tool to get that information. If an order_id is \n",
    "        present in the query, always look up the order status to get \n",
    "        more information on the order.\n",
    "\n",
    "        Here is the JSON schema for the SupportTicket model you must \n",
    "        use as context for what information is expected:\n",
    "        {support_ticket_schema}\n",
    "    \"\"\"\n",
    "    messages = [\n",
    "        {\"role\": \"system\", \"content\": system_prompt},\n",
    "        {\"role\": \"user\", \"content\": str(customer_query.model_dump())}\n",
    "    ]\n",
    "    response = client.chat.completions.create(\n",
    "        model=\"gpt-4o\",\n",
    "        messages=messages,\n",
    "        tools=tool_definitions,\n",
    "        tool_choice=\"auto\"\n",
    "    )\n",
    "    message = response.choices[0].message\n",
    "    tool_calls = getattr(message, \"tool_calls\", None)\n",
    "    return message, tool_calls, messages"
   ]
  },
  {
   "cell_type": "code",
   "execution_count": null,
   "id": "74304530-a85c-4a85-9889-fcbbc27b256d",
   "metadata": {},
   "outputs": [],
   "source": [
    "# Call the decide_next_action_with_tools function\n",
    "message, tool_calls, messages = decide_next_action_with_tools(\n",
    "    customer_query\n",
    ")\n",
    "# Investigate the LLM's outputs before proceeding\n",
    "print(\"LLM message:\\n\", json.dumps(message.model_dump(), indent=2))\n",
    "print(\n",
    "    \"\\nTool calls:\\n\", \n",
    "    json.dumps([call.model_dump() for call in tool_calls], indent=2)\n",
    ")"
   ]
  },
  {
   "cell_type": "code",
   "execution_count": null,
   "id": "d232b984-359f-4229-b6c8-0089b7407068",
   "metadata": {},
   "outputs": [],
   "source": [
    "# Define a function to get tool outputs\n",
    "def get_tool_outputs(tool_calls):\n",
    "    tool_outputs = []\n",
    "    if tool_calls:\n",
    "        for tool_call in tool_calls:\n",
    "            if tool_call.function.name == \"lookup_faq_answer\":\n",
    "                print(\"Agent requested a call to the Lookup FAQ tool...\")\n",
    "                args = FAQLookupArgs.model_validate_json(\n",
    "                    tool_call.function.arguments\n",
    "                )\n",
    "                result = lookup_faq_answer(args)\n",
    "                tool_outputs.append({\n",
    "                    \"tool_call_id\": tool_call.id, \"output\": result\n",
    "                })\n",
    "                print(f\"Lookup FAQ tool returned {result}\")\n",
    "            elif tool_call.function.name == \"check_order_status\":\n",
    "                print(\"Agent requested a call to Check Order Status tool...\")\n",
    "                args = CheckOrderStatusArgs.model_validate_json(\n",
    "                    tool_call.function.arguments\n",
    "                )\n",
    "                result = check_order_status(args)\n",
    "                tool_outputs.append({\n",
    "                    \"tool_call_id\": tool_call.id, \"output\": result\n",
    "                })\n",
    "                print(f\"Check Order Status tool returned {result}\")\n",
    "    return tool_outputs\n",
    "\n",
    "tool_outputs = get_tool_outputs(tool_calls)\n",
    "\n",
    "# Print tool outputs for inspection\n",
    "print(\"Tool outputs:\\n\", json.dumps(tool_outputs, indent=2))"
   ]
  },
  {
   "cell_type": "code",
   "execution_count": null,
   "id": "c238a7b8-9eb7-4511-9e9a-e0fd30373304",
   "metadata": {},
   "outputs": [],
   "source": [
    "# Create the Anthropic client with Instructor\n",
    "anthropic_client = instructor.from_anthropic(\n",
    "    anthropic.Anthropic()\n",
    ")\n",
    "\n",
    "# Define a function to call Anthropic to generate a support ticket\n",
    "def generate_structured_support_ticket(\n",
    "    customer_query: CustomerQuery, message, tool_outputs: list\n",
    "):\n",
    "    tool_results_str = \"\\n\".join([\n",
    "        f\"Tool: {out['tool_call_id']} Output: {json.dumps(out['output'])}\"\n",
    "        for out in tool_outputs\n",
    "    ]) if tool_outputs else \"No tool calls were made.\"\n",
    "    # Concatenate prompt parts into a single string for Anthropic\n",
    "    prompt = f\"\"\"\n",
    "        You are a support agent. Use all information below to \n",
    "        generate a support ticket as a validated Pydantic model.\n",
    "        Customer query: {customer_query.model_dump_json(indent=2)}\n",
    "        LLM message: {str(message.content)}\n",
    "        Tool results: {tool_results_str}\n",
    "    \"\"\"\n",
    "    # Create the message with structured output\n",
    "    response = anthropic_client.messages.create(\n",
    "        model=\"claude-3-7-sonnet-latest\",  \n",
    "        max_tokens=1024,\n",
    "        messages=[\n",
    "            {\n",
    "                \"role\": \"user\", \n",
    "                \"content\": prompt\n",
    "            }\n",
    "        ],\n",
    "        response_model=SupportTicket\n",
    "    )\n",
    "    \n",
    "    support_ticket = response\n",
    "    support_ticket.creation_date = datetime.now()\n",
    "    return support_ticket"
   ]
  },
  {
   "cell_type": "code",
   "execution_count": null,
   "id": "7d83ad44-9465-4c16-881f-43138ba2b733",
   "metadata": {},
   "outputs": [],
   "source": [
    "# Run the final step of generating a support ticket and print output\n",
    "support_ticket = generate_structured_support_ticket(\n",
    "    customer_query, message, tool_outputs\n",
    ")\n",
    "print(support_ticket.model_dump_json(indent=2))"
   ]
  },
  {
   "cell_type": "code",
   "execution_count": null,
   "id": "c569b6bc-526d-4e78-ab53-168f6a7ba6c4",
   "metadata": {},
   "outputs": [],
   "source": [
    "# Define new user input data\n",
    "user_json = '''\n",
    "{\n",
    "    \"name\": \"Joe User\",\n",
    "    \"email\": \"joe@example.com\",\n",
    "    \"query\": \"I'm really not happy with this product I bought\",\n",
    "    \"order_id\": \"QWE-34567\",\n",
    "    \"purchase_date\": null\n",
    "}\n",
    "'''"
   ]
  },
  {
   "cell_type": "code",
   "execution_count": null,
   "id": "901b66c0-0116-414b-a86b-41ab3136b4c5",
   "metadata": {},
   "outputs": [],
   "source": [
    "# Run the entire pipeline\n",
    "valid_user_json = validate_user_input(user_json).model_dump_json()\n",
    "customer_query = create_customer_query(valid_user_json)\n",
    "message, tool_calls, messages = decide_next_action_with_tools(\n",
    "    customer_query\n",
    ")\n",
    "tool_outputs = get_tool_outputs(tool_calls)\n",
    "support_ticket = generate_structured_support_ticket(\n",
    "    customer_query, message, tool_outputs\n",
    ")\n",
    "print(support_ticket.model_dump_json(indent=2))"
   ]
  }
 ],
 "metadata": {
  "kernelspec": {
   "display_name": "Python 3 (ipykernel)",
   "language": "python",
   "name": "python3"
  },
  "language_info": {
   "codemirror_mode": {
    "name": "ipython",
    "version": 3
   },
   "file_extension": ".py",
   "mimetype": "text/x-python",
   "name": "python",
   "nbconvert_exporter": "python",
   "pygments_lexer": "ipython3",
   "version": "3.10.14"
  }
 },
 "nbformat": 4,
 "nbformat_minor": 5
}
